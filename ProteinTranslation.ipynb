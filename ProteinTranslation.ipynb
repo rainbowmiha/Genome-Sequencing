{
  "nbformat": 4,
  "nbformat_minor": 0,
  "metadata": {
    "colab": {
      "name": "ProteinTranslation.ipynb",
      "provenance": [],
      "collapsed_sections": [],
      "authorship_tag": "ABX9TyN0qSNpxSv8fxyWl4eZA6o+"
    },
    "kernelspec": {
      "name": "python3",
      "display_name": "Python 3"
    }
  },
  "cells": [
    {
      "cell_type": "code",
      "metadata": {
        "id": "rV61oX1mw_vj"
      },
      "source": [
        "# a function which takes in an rna string\n",
        "# and outputs its translation into aminoacids\n",
        "\n",
        "def ProteinTranslation(rna_str):\n",
        "\n",
        "  #empty string to keep the amino acid sumbol\n",
        "  amino_str = ''\n",
        "\n",
        "  # dictionary of amino acids\n",
        "  amino_dict = {\"UUU\":\"F\", \"UUC\":\"F\", \"UUA\":\"L\", \"UUG\":\"L\",\n",
        "      \"UCU\":\"S\", \"UCC\":\"S\", \"UCA\":\"S\", \"UCG\":\"S\",\n",
        "      \"UAU\":\"Y\", \"UAC\":\"Y\", \"UAA\":\"\", \"UAG\":\"\",\n",
        "      \"UGU\":\"C\", \"UGC\":\"C\", \"UGA\":\"\", \"UGG\":\"W\",\n",
        "      \"CUU\":\"L\", \"CUC\":\"L\", \"CUA\":\"L\", \"CUG\":\"L\",\n",
        "      \"CCU\":\"P\", \"CCC\":\"P\", \"CCA\":\"P\", \"CCG\":\"P\",\n",
        "      \"CAU\":\"H\", \"CAC\":\"H\", \"CAA\":\"Q\", \"CAG\":\"Q\",\n",
        "      \"CGU\":\"R\", \"CGC\":\"R\", \"CGA\":\"R\", \"CGG\":\"R\",\n",
        "      \"AUU\":\"I\", \"AUC\":\"I\", \"AUA\":\"I\", \"AUG\":\"M\",\n",
        "      \"ACU\":\"T\", \"ACC\":\"T\", \"ACA\":\"T\", \"ACG\":\"T\",\n",
        "      \"AAU\":\"N\", \"AAC\":\"N\", \"AAA\":\"K\", \"AAG\":\"K\",\n",
        "      \"AGU\":\"S\", \"AGC\":\"S\", \"AGA\":\"R\", \"AGG\":\"R\",\n",
        "      \"GUU\":\"V\", \"GUC\":\"V\", \"GUA\":\"V\", \"GUG\":\"V\",\n",
        "      \"GCU\":\"A\", \"GCC\":\"A\", \"GCA\":\"A\", \"GCG\":\"A\",\n",
        "      \"GAU\":\"D\", \"GAC\":\"D\", \"GAA\":\"E\", \"GAG\":\"E\",\n",
        "      \"GGU\":\"G\", \"GGC\":\"G\", \"GGA\":\"G\", \"GGG\":\"G\"}\n",
        "\n",
        "  i = 0\n",
        "  while i < len(rna_str)-2:\n",
        "    key = rna_str[i: i + 3]\n",
        "    amino_str = amino_str + amino_dict[key]\n",
        "    i = i + 3\n",
        "\n",
        "  return amino_str    \n"
      ],
      "execution_count": null,
      "outputs": []
    },
    {
      "cell_type": "code",
      "metadata": {
        "id": "KgCtlAHV-gOS",
        "outputId": "b9085d2c-0a40-42da-bba3-576c35b66f37",
        "colab": {
          "base_uri": "https://localhost:8080/",
          "height": 34
        }
      },
      "source": [
        "ProteinTranslation('CCCAGUACCGAAAUUAAC')"
      ],
      "execution_count": null,
      "outputs": [
        {
          "output_type": "execute_result",
          "data": {
            "text/plain": [
              "'PSTEIN'"
            ]
          },
          "metadata": {
            "tags": []
          },
          "execution_count": 15
        }
      ]
    }
  ]
}