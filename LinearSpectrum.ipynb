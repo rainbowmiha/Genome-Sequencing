{
  "nbformat": 4,
  "nbformat_minor": 0,
  "metadata": {
    "colab": {
      "name": "LinearSpectrum.ipynb",
      "provenance": [],
      "collapsed_sections": [],
      "authorship_tag": "ABX9TyNOz/XnwgBjynFnw+N0WX8s"
    },
    "kernelspec": {
      "name": "python3",
      "display_name": "Python 3"
    }
  },
  "cells": [
    {
      "cell_type": "code",
      "metadata": {
        "id": "el4E6jEqHZPA"
      },
      "source": [
        "# a function which takes in a peptide\n",
        "# and outputs its linear spectrum\n",
        "# where \"linear spectrum\" is a list of the integer masses of the subpeptides\n",
        "\n",
        "def LinearSpectrum(peptide):\n",
        "    \n",
        "  amino_acid_table = {'G': 57, 'A': 71, 'S': 87, 'P': 97, 'V': 99, 'T': 101, 'C': 103, 'I': 113, 'L': 113, 'N': 114, 'D': 115, 'K': 128, 'Q': 128, 'E': 129, 'M': 131, 'H': 137, 'F': 147, 'R': 156, 'Y': 163, 'W': 186}\n",
        "  prefix_mass = [0] * (len(peptide)+1)\n",
        "\n",
        "  # prefix_mass is the list of mass of 1st, 1st+2nd, 1st+2nd+3rd,...1st+...+last\n",
        "  for i in range(1,len(peptide)+1):\n",
        "    prefix_mass[i] = prefix_mass[i-1] + amino_acid_table[peptide[i-1]]\n",
        "\n",
        "  linear_spectrum = [0]\n",
        "  for i in range(0, len(peptide)):\n",
        "    for j in range(i + 1,len(peptide)+1):\n",
        "      linear_spectrum.append(prefix_mass[j] - prefix_mass[i])\n",
        "\n",
        "  \n",
        "  linear_spectrum.sort()        \n",
        "  for i in linear_spectrum:\n",
        "    print(i)\n",
        " \n"
      ],
      "execution_count": null,
      "outputs": []
    },
    {
      "cell_type": "code",
      "metadata": {
        "id": "lqP8rQPqJVX_",
        "outputId": "3a8c7972-7dda-4e35-f5b8-a46250740269",
        "colab": {
          "base_uri": "https://localhost:8080/",
          "height": 136
        }
      },
      "source": [
        "LinearSpectrum('ETC')"
      ],
      "execution_count": null,
      "outputs": [
        {
          "output_type": "stream",
          "text": [
            "0\n",
            "101\n",
            "103\n",
            "129\n",
            "204\n",
            "230\n",
            "333\n"
          ],
          "name": "stdout"
        }
      ]
    }
  ]
}