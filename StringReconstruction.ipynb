{
  "nbformat": 4,
  "nbformat_minor": 0,
  "metadata": {
    "colab": {
      "name": "StringReconstruction.ipynb",
      "provenance": [],
      "collapsed_sections": [],
      "authorship_tag": "ABX9TyPPhKyH9+eS4FhV0Q3FAl/q"
    },
    "kernelspec": {
      "name": "python3",
      "display_name": "Python 3"
    }
  },
  "cells": [
    {
      "cell_type": "code",
      "metadata": {
        "id": "gM0XYxhg73_F"
      },
      "source": [
        "# the purpose of this code is to take in a set of patterns (kmers)\n",
        "# and put these together in a genome (dna seq they form)\n",
        "# for test set check Rosalind"
      ],
      "execution_count": null,
      "outputs": []
    },
    {
      "cell_type": "code",
      "metadata": {
        "id": "uEdw6tBy-tqO"
      },
      "source": [
        "\n",
        "# a program which takes in a set of patterns and \n",
        "# returns their adjacent list\n",
        "\n",
        "def debruin_patterns(patterns):\n",
        "\n",
        "  # sort patterns lexicographically\n",
        "  patterns.sort()  \n",
        "  # an empty list to store nodes\n",
        "  nodes_list = []\n",
        "\n",
        "  # extract all nodes in dna\n",
        "  for i in patterns:\n",
        "    nodes_list.append(i[0:-1])\n",
        "  nodes_list.sort()  \n",
        "\n",
        "  # a dictionary to keep nodes(key) and a list of their adjacent nodes(value)\n",
        "  nodes = {k:[] for k in nodes_list}\n",
        "  \n",
        "  # loops over patterns and finds adjacent nodes \n",
        "  for j in patterns:\n",
        "    start_node = j[0:-1]\n",
        "    adj_node = j[1:len(j)]\n",
        "    nodes[start_node].append(adj_node)\n",
        "\n",
        "  return nodes   \n"
      ],
      "execution_count": null,
      "outputs": []
    },
    {
      "cell_type": "code",
      "metadata": {
        "id": "LX7N4Stc-1Xa"
      },
      "source": [
        "# a program which takes in an adjacent list\n",
        "# and returns the eulerian path in the graph\n",
        "\n",
        "def EulerianPath(adj): \n",
        "   \n",
        "    # adj represents the adjacency list of \n",
        "    # the directed graph \n",
        "       \n",
        "    if len(adj) == 0: \n",
        "        return # empty graph \n",
        "\n",
        "    else:\n",
        "      # list to store all out nodes\n",
        "      all_out_nodes = []\n",
        "\n",
        "      # find start node\n",
        "      start_node = []\n",
        "\n",
        "      for j in list(adj.keys()):\n",
        "        for k in adj[j]:\n",
        "          all_out_nodes.append(str(k))\n",
        "\n",
        "      # find the nodes with zero outnodes and add them to the dictionary\n",
        "      # (otherwise it throws errors)    \n",
        "      unique_elts = set(all_out_nodes)\n",
        "      for z in unique_elts:\n",
        "        if z not in adj.keys():\n",
        "          adj[z] = []\n",
        "\n",
        "      # find the odd vertex:\n",
        "      for t in list(adj.keys()):\n",
        "        if len(adj[t]) - all_out_nodes.count(t) == 1:\n",
        "          start_node.append(t)\n",
        "      # Maintain a stack to keep vertices \n",
        "      # We can start from any vertex, hence we choose one at random\n",
        "      curr_path = [str(start_node[0])] \n",
        "    \n",
        "      # list to store final circuit \n",
        "      circuit = [] \n",
        "    \n",
        "      while curr_path: \n",
        "    \n",
        "          curr_v = curr_path[-1] \n",
        "          \n",
        "          # If there's remaining edge in adjacency list   \n",
        "          # of the current vertex  \n",
        "          \n",
        "          \n",
        "          if adj[curr_v]: \n",
        "                \n",
        "              # Find and remove the next vertex that is   \n",
        "              # adjacent to the current vertex \n",
        "              next_v = str(adj[curr_v].pop())\n",
        "    \n",
        "              # Push the new vertex to the stack \n",
        "              curr_path.append(next_v) \n",
        "    \n",
        "          # back-track to find remaining circuit \n",
        "          else: \n",
        "              # Remove the current vertex and  \n",
        "              # put it in the curcuit \n",
        "              circuit.append(curr_path.pop()) \n",
        "\n",
        "    reverse_circuit = []\n",
        "    for i in range(len(circuit) - 1, -1, -1):\n",
        "      reverse_circuit.append(circuit[i])\n",
        "    return reverse_circuit       "
      ],
      "execution_count": null,
      "outputs": []
    },
    {
      "cell_type": "code",
      "metadata": {
        "id": "KRzHlBXr-wAq"
      },
      "source": [
        "# a program which takes in a path\n",
        "# and spits out a genome sequence\n",
        "def PathToGenome(path):\n",
        "  genome=''\n",
        "  for i in range(len(path)-1):\n",
        "    genome = genome + path[i][0]\n",
        "  genome = genome + str(path[len(path)-1])\n",
        "  return genome  "
      ],
      "execution_count": null,
      "outputs": []
    },
    {
      "cell_type": "code",
      "metadata": {
        "id": "VYTVzsVY5Xm3"
      },
      "source": [
        "# a program which takes in a set of patterns and puts\n",
        "# them together in a genome\n",
        "\n",
        "def StringReconstruction(patterns):\n",
        "        db = debruin_patterns(patterns)\n",
        "        path = EulerianPath(db)\n",
        "        text = PathToGenome(path)\n",
        "        \n",
        "        return text"
      ],
      "execution_count": null,
      "outputs": []
    },
    {
      "cell_type": "code",
      "metadata": {
        "id": "vcHFdfiMWV3m"
      },
      "source": [
        "seqs = [\"CTTA\",\"ACCA\",\"TACC\",\"GGCT\",\"GCTT\",\"TTAC\"]"
      ],
      "execution_count": null,
      "outputs": []
    },
    {
      "cell_type": "code",
      "metadata": {
        "id": "dIGTI11O46yS"
      },
      "source": [
        "db = debruin_patterns(seqs)"
      ],
      "execution_count": null,
      "outputs": []
    },
    {
      "cell_type": "code",
      "metadata": {
        "id": "FCo6gTCmW8eY"
      },
      "source": [
        "db"
      ],
      "execution_count": null,
      "outputs": []
    },
    {
      "cell_type": "code",
      "metadata": {
        "id": "yvFAifQ55A38",
        "outputId": "3452ae08-5e3c-49d5-bc62-022596d87a90",
        "colab": {
          "base_uri": "https://localhost:8080/",
          "height": 34
        }
      },
      "source": [
        "EulerianPath(db)"
      ],
      "execution_count": null,
      "outputs": [
        {
          "output_type": "execute_result",
          "data": {
            "text/plain": [
              "['GGC', 'GCT', 'CTT', 'TTA', 'TAC', 'ACC', 'CCA']"
            ]
          },
          "metadata": {
            "tags": []
          },
          "execution_count": 208
        }
      ]
    },
    {
      "cell_type": "code",
      "metadata": {
        "id": "x3smQqssGNC_",
        "outputId": "61257335-5153-42e0-8064-377559d6f480",
        "colab": {
          "base_uri": "https://localhost:8080/",
          "height": 34
        }
      },
      "source": [
        "StringReconstruction(seqs)"
      ],
      "execution_count": null,
      "outputs": [
        {
          "output_type": "execute_result",
          "data": {
            "text/plain": [
              "'GGCTTACCA'"
            ]
          },
          "metadata": {
            "tags": []
          },
          "execution_count": 209
        }
      ]
    },
    {
      "cell_type": "code",
      "metadata": {
        "id": "9884YVQd1V4l"
      },
      "source": [
        "# for a test set check Rosalind!\n",
        "f = open('/dir/file.txt', 'r+')"
      ],
      "execution_count": null,
      "outputs": []
    },
    {
      "cell_type": "code",
      "metadata": {
        "id": "brts73iI1iFC"
      },
      "source": [
        "content = f.readlines()\n",
        "# you may also want to remove whitespace characters like `\\n` at the end of each line\n",
        "content = [x.strip() for x in content]"
      ],
      "execution_count": null,
      "outputs": []
    },
    {
      "cell_type": "code",
      "metadata": {
        "id": "hLMLbDufIyRR",
        "outputId": "9c35d331-6c47-4718-92fe-cb46badc89ee",
        "colab": {
          "base_uri": "https://localhost:8080/",
          "height": 54
        }
      },
      "source": [
        "StringReconstruction(content[1::])"
      ],
      "execution_count": null,
      "outputs": [
        {
          "output_type": "execute_result",
          "data": {
            "text/plain": [
              "'GCGCTTTGCGTGTGCTCGCGCGGCGGTTCATAAAGTGGTCTTACGCGGTACGTAAACCGCGTGCGAGGCCACGCATCGACTTCAATACATTACACGTAGGGTCAATGCACGAATCCTCATATCTAAAGGGCATACGCGATTTTAAATTTCCATCACGCTCTTGCCCCTGTAGACTCCTCATCAGTGCGTAGGAAGGACTTGTAAAAGTCCCCGTACTGAGGCTGCCATAGTCGCCCGGACCCTTCGTACGTCAGTGACTCTGGTCTTATAAAACCACTCTTGAGTATTCTGGGGTAAAGCCTGCGAGGATGTATTTGCCTAGCCACGGCCGCGTATTACGGGCTATCTTCGTAGTATGGCGCCTAAGGAGTATTGCGACGATGGATACGTTCAATAACTCTTATACTAGTCCATGAAGGGCTTTCACGCCGCTCTTAGACCTTCGGACTCACGACAAAACGCCTACATCTACGATCAATAGAGCCCTAGGCGAATCCAACCTCTAGTCACCTAATTTTACATTGCGAATCGACGCATTTAAGACCATTATCAACCACTACTGATCGATATCACACCCCCCAGCCGGGGTACTAGCCTCAGTCTGTTCTTAGTTGCGTAATTTACTTGTAATTTTTTGTCGGCGGTACGTTATAGCACGTGCTTATGCCTATAAGTTAATTAGTGACAGAAATGTTAACTCACCAGCTCATCCCGCAGCAACACGGTGCCACCATCGTCGCCAGAAAGGAGCTAGAAAAGTACAGCTCACGGAAGTTACACCTCGCGACAGGTAGCCGGCATCCATACAATTCGCTATGCCACATAGGCAGGCTAATTCAGCAGAGAACCCAGGGGGCGACTCTGGTTGAGCTTGGGTAGCTGTATGTACCGATTGTGCATAGACCTTGTCTGCTGAATAACTGGTCCATCGTTCGAGGTATTGAGGGTACGAGATGGATGCGTCCCTTAAACGGCCTCCGGACGAGTTTACACTTCAGAGCTGGAGCAGGGCTTTCTACACAAGGATCCGGAATGGATGAACGCTGTGTCAAAATTTGCGCTTGCCGGATGACGACGCAGGGTACTGCTTTACTCTCGGCCTACACAGAGCACCCAAACCGGCAGCACAGTAGGCCTTTTGTCTAGAAAAGGGATTGCTTAGCTTGTACAGAAATATGTGTCTAGTCCCAGTAGAGGGAGTTTCCTTTGATAGCGTGCACCCTAGAGATCTCACTCAACGTGTGCCAGATTAGAGTAGCTTAGCCACCGGTTACTCGCTCTAACCAGTTAGGGCGAAACGTAAGCGACTGGAGTTGTTCATACCCGGTCATGGTTCGACACGACAAAATCACTGCTACCCTCCACATATTCGTTCTAATGAGAACACGTATTGCTTTTGCCGAAATTATACACCGGCCTGCCAAATCAGTGTAACTCGCGCAAGAGTTATAGGTCCGAGTCCGCTAAGGCATTCACGTCGGAATCCAAGCTAAAGGTAACGTTTTCTGCAGACACACCGGTGGTACTTCCCCTAGTAAGGGCCTAGGTACCCATGGACATTTGGTACGGTTGGGAAACGTGGCCACTGCCCGAGTTGACAGCCCCTGTGAGCCCTCACGTACGATCCGGGGGCGGATTGTATTGCTTTGACCAATCAAGCACGAATACCTGTTCGGTTCGCCACAAACTTCTGAACAGGTCGTTGTCTGCTGAGAGGGACGCTCCCACTAGGCCGAGCTTCACTAGAATCGTGTGGTAGGTAGGGCATTCAATTTAACGCGCTACATGTTCATGCTGCGTGTGCCAACGTAAGTCATAAACTTACACCTACCCATAATCGGAAGCTCTCCGGCCAATGTCACGGGTAGGCATTCTGTGCTAGCCGCACTAACTGTCTCCCTGTGTTGAACTCAAGGATGATTCGAAAAGACTCTGATCGCTGACTGATCAGGTTACTATCGCTTGGACCGTTGGGTTCTCGGTATGAGGAAATTGGGGGTCAGATGGTTGTGTTAGGCCACAGTAATCCTGAAGACTATGCCGCCTCTTCGCGTATCTTGTCCCTGCGTTTCTTACCAGACCGACTGTAGTCTGCTATAGTAAGGAGAGACTGACATCAAAGTGTGTCAGCAGAACGTACAGGTATGCCCACCGGCGGGGGGATAGTCGCTAGCCCAGGCCTGCGTTATAACGTCCCATCCAATCTAACGGCAACATATGGTTAGATCCAGTGTCCACCT'"
            ]
          },
          "metadata": {
            "tags": []
          },
          "execution_count": 13
        }
      ]
    },
    {
      "cell_type": "code",
      "metadata": {
        "id": "9KgGgfNUP5nP"
      },
      "source": [
        ""
      ],
      "execution_count": null,
      "outputs": []
    }
  ]
}