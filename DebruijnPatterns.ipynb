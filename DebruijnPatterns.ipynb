{
  "nbformat": 4,
  "nbformat_minor": 0,
  "metadata": {
    "colab": {
      "name": "DebruijnPatterns.ipynb",
      "provenance": [],
      "collapsed_sections": [],
      "authorship_tag": "ABX9TyMMTtCTmcrCBGrPCC9qZP/d"
    },
    "kernelspec": {
      "name": "python3",
      "display_name": "Python 3"
    }
  },
  "cells": [
    {
      "cell_type": "code",
      "metadata": {
        "id": "YHDm1if4-p0U"
      },
      "source": [
        "# a program which takes in a set of patterns and \n",
        "# returns their adjacent list\n",
        "\n",
        "def debruijn_patterns(patterns):\n",
        "\n",
        "  # sort patterns lexicographically\n",
        "  patterns.sort()  \n",
        "\n",
        "  # an empty list to store nodes\n",
        "  nodes_list = []\n",
        "\n",
        "  # extract all nodes in dna\n",
        "  for i in patterns:\n",
        "    nodes_list.append(i[0:-1])\n",
        "  nodes_list.sort()  \n",
        "\n",
        "  # a dictionary to keep nodes(key) and a list of their adjacent nodes(value)\n",
        "  nodes = {k:[] for k in nodes_list}\n",
        "  \n",
        "  # loops over patterns and finds adjacent nodes \n",
        "  for j in patterns:\n",
        "    start_node = j[0:-1]\n",
        "    adj_node = j[1:len(j)]\n",
        "    nodes[start_node].append(adj_node)\n",
        "   \n",
        "  for key in nodes.keys():\n",
        "    print (str(key) + ' -> ' + \", \".join(nodes[key])) \n",
        "      \n",
        "  "
      ],
      "execution_count": 1,
      "outputs": []
    },
    {
      "cell_type": "code",
      "metadata": {
        "id": "c5-XhyihB0Tc"
      },
      "source": [
        "f = open('/dir/file.txt', 'r+')"
      ],
      "execution_count": null,
      "outputs": []
    },
    {
      "cell_type": "code",
      "metadata": {
        "id": "gmx6FNvUCBZa"
      },
      "source": [
        "content = f.readlines()\n",
        "# you may also want to remove whitespace characters like `\\n` at the end of each line\n",
        "content = [x.strip() for x in content]"
      ],
      "execution_count": null,
      "outputs": []
    },
    {
      "cell_type": "code",
      "metadata": {
        "id": "xpemlfGwCFhd"
      },
      "source": [
        "debruijn_patterns(content)"
      ],
      "execution_count": null,
      "outputs": []
    }
  ]
}