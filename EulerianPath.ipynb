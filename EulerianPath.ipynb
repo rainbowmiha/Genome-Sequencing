{
  "nbformat": 4,
  "nbformat_minor": 0,
  "metadata": {
    "colab": {
      "name": "EulerianPath.ipynb",
      "provenance": [],
      "collapsed_sections": [],
      "authorship_tag": "ABX9TyPh1vgWZuj6gw3RG1iA3SL+"
    },
    "kernelspec": {
      "name": "python3",
      "display_name": "Python 3"
    }
  },
  "cells": [
    {
      "cell_type": "code",
      "metadata": {
        "id": "Q5386iRCPGnQ"
      },
      "source": [
        "# takes in an adjacency list (adj - dictionary) \n",
        "# and outputs an Eulerian path of the graph\n",
        "\n",
        "def EulerianPath(adj): \n",
        "   \n",
        "    # adj represents the adjacency list of \n",
        "    # the directed graph \n",
        "       \n",
        "    if len(adj) == 0: \n",
        "        return # empty graph \n",
        "\n",
        "    else:\n",
        "      # list to store all out nodes\n",
        "      all_out_nodes = []\n",
        "\n",
        "      # find start node\n",
        "      start_node = []\n",
        "\n",
        "      for j in adj.keys():\n",
        "        for k in adj[j]:\n",
        "          all_out_nodes.append(k)\n",
        "\n",
        "      # find the nodes with zero outnodes and add them to the dictionary\n",
        "      # (otherwise it throws errors)    \n",
        "      unique_elts = set(all_out_nodes)\n",
        "      for z in unique_elts:\n",
        "        if z not in adj.keys():\n",
        "          adj[z] = []    \n",
        "\n",
        "      # find the odd vertex:\n",
        "      for t in adj.keys():\n",
        "        if len(adj[t])- all_out_nodes.count(t) == 1:\n",
        "          start_node.append(t)\n",
        "      # Maintain a stack to keep vertices \n",
        "      # We can start from any vertex, hence we choose one at random\n",
        "        \n",
        "      curr_path = [str(start_node[0])] \n",
        "    \n",
        "      # list to store final circuit \n",
        "      circuit = [] \n",
        "    \n",
        "      while curr_path: \n",
        "    \n",
        "          curr_v = curr_path[-1] \n",
        "          \n",
        "          # If there's remaining edge in adjacency list   \n",
        "          # of the current vertex  \n",
        "        \n",
        "          if adj[curr_v]: \n",
        "    \n",
        "              # Find and remove the next vertex that is   \n",
        "              # adjacent to the current vertex \n",
        "              next_v = str(adj[curr_v].pop())\n",
        "    \n",
        "              # Push the new vertex to the stack \n",
        "              curr_path.append(next_v) \n",
        "    \n",
        "          # back-track to find remaining circuit \n",
        "          else: \n",
        "              # Remove the current vertex and  \n",
        "              # put it in the curcuit \n",
        "              circuit.append(curr_path.pop()) \n",
        "   \n",
        "    # we've got the circuit, now print it in reverse \n",
        "    for i in range(len(circuit) - 1, -1, -1): \n",
        "        print(circuit[i], end = \"\") \n",
        "        if i: \n",
        "            print(\"->\", end = \"\")  \n",
        "    \n",
        "\n",
        "          "
      ],
      "execution_count": 1,
      "outputs": []
    },
    {
      "cell_type": "code",
      "metadata": {
        "id": "ac4D2dPQic-k"
      },
      "source": [
        "my_dict = {}\n",
        "my_dict['0'] = ['2']\n",
        "my_dict['1'] = ['3']\n",
        "my_dict['2'] = ['1']\n",
        "my_dict['3'] = ['0','4']\n",
        "my_dict['6'] = ['3','7']\n",
        "my_dict['7'] = ['8']\n",
        "my_dict['8'] = ['9']\n",
        "my_dict['9'] = ['6']"
      ],
      "execution_count": 2,
      "outputs": []
    },
    {
      "cell_type": "code",
      "metadata": {
        "id": "XhJbZ2J_NTkL",
        "outputId": "79561b8a-ceef-4d94-a3d2-5046e290e5f9",
        "colab": {
          "base_uri": "https://localhost:8080/",
          "height": 34
        }
      },
      "source": [
        "EulerianPath(my_dict)"
      ],
      "execution_count": 3,
      "outputs": [
        {
          "output_type": "stream",
          "text": [
            "6->7->8->9->6->3->0->2->1->3->4"
          ],
          "name": "stdout"
        }
      ]
    },
    {
      "cell_type": "code",
      "metadata": {
        "id": "TMHRGXwgdv15"
      },
      "source": [
        "f = open('/dir/file.txt', 'r+')"
      ],
      "execution_count": null,
      "outputs": []
    },
    {
      "cell_type": "code",
      "metadata": {
        "id": "AcMIvTmGd3Qa"
      },
      "source": [
        "with f as file:\n",
        "    graph = dict((line.strip().split(' -> ') for line in file))\n",
        "    for key in graph:\n",
        "        graph[key] = graph[key].split(',')"
      ],
      "execution_count": null,
      "outputs": []
    },
    {
      "cell_type": "code",
      "metadata": {
        "id": "Iig0reLy6Jl6"
      },
      "source": [
        "EulerianPath(graph)"
      ],
      "execution_count": null,
      "outputs": []
    }
  ]
}