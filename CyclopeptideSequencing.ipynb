{
  "nbformat": 4,
  "nbformat_minor": 0,
  "metadata": {
    "colab": {
      "name": "CyclopeptideSequencing.ipynb",
      "provenance": [],
      "collapsed_sections": [],
      "authorship_tag": "ABX9TyODsQ1g2msdv/ZZYXYZoN26"
    },
    "kernelspec": {
      "name": "python3",
      "display_name": "Python 3"
    }
  },
  "cells": [
    {
      "cell_type": "code",
      "metadata": {
        "id": "sNOqV_Zt_klJ"
      },
      "source": [
        "# a function which takes in a peptide and \n",
        "# outputs the theoretical spectrum of that peptide\n",
        "# where \"theoretical spectrum\" is the collection of all of the masses of its subpeptides, \n",
        "# in addition to the mass 0 and the mass of the entire peptide, with masses ordered from smallest to largest.\n",
        "\n",
        "def CyclicSpectrum(peptide):\n",
        "  amino_acid_table = {'G': 57, 'A': 71, 'S': 87, 'P': 97, 'V': 99, 'T': 101, 'C': 103, 'I': 113, 'L': 113, 'N': 114, 'D': 115, 'K': 128, 'Q': 128, 'E': 129, 'M': 131, 'H': 137, 'F': 147, 'R': 156, 'Y': 163, 'W': 186}\n",
        "  prefix_mass = [0] * (len(peptide)+1)\n",
        "\n",
        "  # prefix_mass is the list of mass of 1st, 1st+2nd, 1st+2nd+3rd,...1st+...+last\n",
        "  for i in range(1,len(peptide)+1):\n",
        "    prefix_mass[i] = prefix_mass[i-1] + amino_acid_table[peptide[i-1]]\n",
        "  \n",
        "  # take the value of the total mass of the peptide and store it in a var  \n",
        "  peptide_mass = max(prefix_mass)\n",
        "  cyclic_spectrum = [0]\n",
        "  for i in range(0, len(peptide)):\n",
        "    for j in range(i + 1,len(peptide)+1):\n",
        "      cyclic_spectrum.append(prefix_mass[j] - prefix_mass[i])\n",
        "\n",
        "    # this here part accounts for the cyclic nature of the peptide\n",
        "      if i > 0 and j < len(peptide):\n",
        "        cyclic_spectrum.append(peptide_mass - (prefix_mass[j] - prefix_mass[i]))\n",
        "\n",
        "  cyclic_spectrum.sort()        \n",
        "  return cyclic_spectrum\n",
        " "
      ],
      "execution_count": null,
      "outputs": []
    },
    {
      "cell_type": "code",
      "metadata": {
        "id": "5_LgsYp5BAPp"
      },
      "source": [
        "# a function which takes in a peptide\n",
        "# and spits out its linear spectrum\n",
        "# where \"linear spectrum\" is a list of the integer masses of the subpeptides\n",
        "\n",
        "def LinearSpectrum(peptide):\n",
        "    \n",
        "  amino_acid_table = {'G': 57, 'A': 71, 'S': 87, 'P': 97, 'V': 99, 'T': 101, 'C': 103, 'I': 113, 'L': 113, 'N': 114, 'D': 115, 'K': 128, 'Q': 128, 'E': 129, 'M': 131, 'H': 137, 'F': 147, 'R': 156, 'Y': 163, 'W': 186}\n",
        "  prefix_mass = [0] * (len(peptide)+1)\n",
        "\n",
        "  # prefix_mass is the list of mass of 1st, 1st+2nd, 1st+2nd+3rd,...1st+...+last\n",
        "  for i in range(1,len(peptide)+1):\n",
        "    prefix_mass[i] = prefix_mass[i-1] + amino_acid_table[peptide[i-1]]\n",
        "\n",
        "  linear_spectrum = [0]\n",
        "  for i in range(0, len(peptide)):\n",
        "    for j in range(i + 1,len(peptide)+1):\n",
        "      linear_spectrum.append(prefix_mass[j] - prefix_mass[i])\n",
        "\n",
        "  \n",
        "  linear_spectrum.sort()        \n",
        "  return linear_spectrum\n",
        " "
      ],
      "execution_count": null,
      "outputs": []
    },
    {
      "cell_type": "code",
      "metadata": {
        "id": "i2SVYXD0HLSc"
      },
      "source": [
        "# a function which takes in a peptide (as a string)\n",
        "# and it spits out its mass\n",
        "\n",
        "def mass(peptide):\n",
        "  # a dictionary with name of amino acid as a key and its int mass as a value\n",
        "  # the empty peptide is denoted by '0' - zero, and has mass 0\n",
        "  amino_acid_mass = {'G': 57, 'A': 71, 'S': 87, 'P': 97, 'V': 99, 'T': 101, 'C': 103, 'I': 113, 'L': 113, 'N': 114, 'D': 115, 'K': 128, 'Q': 128, 'E': 129, 'M': 131, 'H': 137, 'F': 147, 'R': 156, 'Y': 163, 'W': 186}\n",
        "  # split peptide into amino acids\n",
        "  peptide = list(peptide)\n",
        "  mass = 0\n",
        "  for i in peptide:\n",
        "    mass = mass + amino_acid_mass[i]\n",
        "    \n",
        "  return mass  "
      ],
      "execution_count": null,
      "outputs": []
    },
    {
      "cell_type": "code",
      "metadata": {
        "id": "Ti2j3_vJK9rl"
      },
      "source": [
        "# a function which checks if a list is a sublist of another list\n",
        "def is_sublist(sub_list, list_):\n",
        "    for item in sub_list:\n",
        "      if sub_list.count(item) > list_.count(item):\n",
        "        return False\n",
        "    return True"
      ],
      "execution_count": null,
      "outputs": []
    },
    {
      "cell_type": "code",
      "metadata": {
        "id": "cOYf4DWywIlr"
      },
      "source": [
        "# Input: a k-long peptide and a list of amino acids\n",
        "# Output: the newly formed (k+1)-long peptides, formed by peptide + amino acd from list\n",
        "def expand(peptide, amino_list):\n",
        "  new_peptides = []\n",
        "  for a in amino_list:\n",
        "    new_peptides.append(peptide+a)\n",
        "    \n",
        "  return new_peptides  "
      ],
      "execution_count": null,
      "outputs": []
    },
    {
      "cell_type": "code",
      "metadata": {
        "id": "W8cC1r3m3a3U"
      },
      "source": [
        "def cyclopeptide_sequencing(spectrum):\n",
        "\n",
        "  # initial list of candidate peptides\n",
        "  candidate_peptides = ['G', 'A', 'S', 'P', 'V', 'T', 'C', 'I', 'L', 'N', 'D', 'K', 'Q', 'E', 'M', 'H', 'F', 'R', 'Y', 'W']\n",
        "  # a place to store the single amino acids, encountered in the spectrum\n",
        "  single_aminos = []\n",
        "  good_peptides = []\n",
        "  final_peptides = []\n",
        "\n",
        "  # use this to check if it's the first iteration of the while loop\n",
        "  i = 0\n",
        "  while len(candidate_peptides) != 0:\n",
        "    i = i + 1\n",
        "    # if this is the first iteration, then we just check which single amino acids are in\n",
        "    if i == 1:   \n",
        "      for peptide in candidate_peptides:\n",
        "        # check if the mass of the investigated peptide is the max in the spectrum\n",
        "        if mass(peptide) == max(spectrum):\n",
        "        # if so, check if its spectrum coincides with the final spectrum\n",
        "          if sorted(CyclicSpectrum(peptide)) == sorted(Spectrum) and peptide not in final_peptides:\n",
        "            final_peptides.append(peptide)\n",
        "\n",
        "        # check if the linear spectrum of the peptide is consistent with spectrum  \n",
        "        elif is_sublist(LinearSpectrum(peptide), spectrum):\n",
        "          good_peptides.append(peptide)      \n",
        "      # store in candidate_peptides only the longest, 'good' peptides\n",
        "      candidate_peptides = good_peptides[::]\n",
        "      # store single aminos to use to generate new peptides with these aminos\n",
        "      single_aminos = good_peptides[::]\n",
        "      good_peptides = []   \n",
        "      \n",
        "    # for every following iteration\n",
        "    else:\n",
        "      for peptide in candidate_peptides:\n",
        "        new_peptides = expand(peptide, single_aminos)\n",
        "        for p in new_peptides:\n",
        "          # check if the mass of the investigated peptide is the max in the spectrum\n",
        "          if mass(p) == max(spectrum):\n",
        "            \n",
        "          # if so, check if its spectrum coincides with the final spectrum\n",
        "            if sorted(CyclicSpectrum(p)) == sorted(spectrum) and p not in final_peptides:\n",
        "              final_peptides.append(p)\n",
        "\n",
        "          # check if the linear spectrum of the peptide is consistent with spectrum    \n",
        "          elif is_sublist(LinearSpectrum(p), spectrum):\n",
        "            good_peptides.append(p)\n",
        "            \n",
        "      candidate_peptides = good_peptides[::]\n",
        "      good_peptides = [] \n",
        "\n",
        "\n",
        "  final_peptides_num = []\n",
        "  for f in final_peptides:\n",
        "    f = list(f)\n",
        "    s = ''\n",
        "    for z in range(len(f)):\n",
        "      if z == len(f)-1:\n",
        "        s = s + str(mass(f[z]))\n",
        "      else:\n",
        "        s = s + str(mass(f[z])) + '-'\n",
        "\n",
        "    final_peptides_num.append(s)\n",
        "  final_peptides_num = set(final_peptides_num)\n",
        "  for w in final_peptides_num:\n",
        "    print(w)\n",
        "       \n",
        "       "
      ],
      "execution_count": null,
      "outputs": []
    },
    {
      "cell_type": "code",
      "metadata": {
        "id": "TPCnAqUDZQV3"
      },
      "source": [
        "cyclopeptide_sequencing([0, 113, 128, 186, 241, 299, 314, 427])"
      ],
      "execution_count": null,
      "outputs": []
    },
    {
      "cell_type": "code",
      "metadata": {
        "id": "orKutqbAo0W5"
      },
      "source": [
        "lst = [0, 87, 99, 101, 103, 113, 113, 115, 128, 131, 156, 156, 190, 214, 214, 230, 231, 232, 241, 243, 269, 269, 271, 318, 331, 344, 345, 345, 346, 358, 370, 370, 382, 397, 431, 444, 446, 457, 461, 474, 483, 500, 501, 501, 510, 559, 560, 587, 587, 588, 589, 600, 602, 611, 613, 614, 688,689, 691, 700, 702, 713, 714, 715, 715, 742, 743, 792, 801, 801, 802, 819, 828, 841, 845, 856, 858, 871, 905, 920, 932, 932, 944, 956, 957, 957, 958, 971, 984, 1031, 1033, 1033, 1059, 1061, 1070, 1071, 1072, 1088, 1088, 1112, 1146, 1146, 1171, 1174, 1187, 1189, 1189, 1199, 1201, 1203, 1215, 1302]"
      ],
      "execution_count": null,
      "outputs": []
    },
    {
      "cell_type": "code",
      "metadata": {
        "id": "X3LgyHxapqil",
        "outputId": "caf2f157-9b48-489a-9056-caeb3603335f",
        "colab": {
          "base_uri": "https://localhost:8080/",
          "height": 391
        }
      },
      "source": [
        "cyclopeptide_sequencing(lst)"
      ],
      "execution_count": null,
      "outputs": [
        {
          "output_type": "stream",
          "text": [
            "131-99-115-156-87-103-128-113-156-113-101\n",
            "113-156-113-128-103-87-156-115-99-131-101\n",
            "99-131-101-113-156-113-128-103-87-156-115\n",
            "113-128-103-87-156-115-99-131-101-113-156\n",
            "87-156-115-99-131-101-113-156-113-128-103\n",
            "103-87-156-115-99-131-101-113-156-113-128\n",
            "128-113-156-113-101-131-99-115-156-87-103\n",
            "115-156-87-103-128-113-156-113-101-131-99\n",
            "113-101-131-99-115-156-87-103-128-113-156\n",
            "156-113-101-131-99-115-156-87-103-128-113\n",
            "156-115-99-131-101-113-156-113-128-103-87\n",
            "99-115-156-87-103-128-113-156-113-101-131\n",
            "101-113-156-113-128-103-87-156-115-99-131\n",
            "131-101-113-156-113-128-103-87-156-115-99\n",
            "87-103-128-113-156-113-101-131-99-115-156\n",
            "115-99-131-101-113-156-113-128-103-87-156\n",
            "113-156-113-101-131-99-115-156-87-103-128\n",
            "128-103-87-156-115-99-131-101-113-156-113\n",
            "103-128-113-156-113-101-131-99-115-156-87\n",
            "101-131-99-115-156-87-103-128-113-156-113\n",
            "156-113-128-103-87-156-115-99-131-101-113\n",
            "156-87-103-128-113-156-113-101-131-99-115\n"
          ],
          "name": "stdout"
        }
      ]
    }
  ]
}