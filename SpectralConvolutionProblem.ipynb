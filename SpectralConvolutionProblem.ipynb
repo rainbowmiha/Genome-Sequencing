{
  "nbformat": 4,
  "nbformat_minor": 0,
  "metadata": {
    "colab": {
      "name": "SpectralConvolutionProblem.ipynb",
      "provenance": [],
      "collapsed_sections": [],
      "authorship_tag": "ABX9TyNfRmOY3p0mkg2oKNoLdtme"
    },
    "kernelspec": {
      "name": "python3",
      "display_name": "Python 3"
    }
  },
  "cells": [
    {
      "cell_type": "code",
      "metadata": {
        "id": "j4l3uyHW3SWH"
      },
      "source": [
        "# a function which calculates all the positive differences\n",
        "# between masses in the spectrum, ordered by number of occurence\n",
        "\n",
        "from collections import Counter\n",
        "def spec_convolution_prob(spectrum):\n",
        "  spectrum.sort()\n",
        "  n = len(spectrum)\n",
        "  convolution = []\n",
        "  for i in range(len(spectrum)-1):\n",
        "    for j in range(i+1, len(spectrum)):\n",
        "      convolution.append(spectrum[j]-spectrum[i])\n",
        "\n",
        "  # remove 0s if there are any\n",
        "\n",
        "  convolution.sort()\n",
        "  cnt = convolution.count(0)\n",
        "  if cnt > 0:\n",
        "    convolution = convolution[cnt::] \n",
        "\n",
        "  convolution.sort(key=Counter(convolution).get, reverse=True)  \n",
        "  \n",
        "  for i in convolution:\n",
        "    print(i)"
      ],
      "execution_count": null,
      "outputs": []
    },
    {
      "cell_type": "code",
      "metadata": {
        "id": "-TrxrExz6v5Z",
        "outputId": "9b4e523b-f981-4502-bd47-2763caa81674",
        "colab": {
          "base_uri": "https://localhost:8080/",
          "height": 34
        }
      },
      "source": [
        "lst = [0, 137, 186, 323]\n",
        "spec_convolution_prob(lst)"
      ],
      "execution_count": null,
      "outputs": [
        {
          "output_type": "execute_result",
          "data": {
            "text/plain": [
              "[137, 137, 186, 186, 49, 323]"
            ]
          },
          "metadata": {
            "tags": []
          },
          "execution_count": 53
        }
      ]
    },
    {
      "cell_type": "code",
      "metadata": {
        "id": "s-edKVgo9xna"
      },
      "source": [
        "# For a test set check Rosalind\n",
        "f = open('/dir/file.txt', 'r+')"
      ],
      "execution_count": null,
      "outputs": []
    },
    {
      "cell_type": "code",
      "metadata": {
        "id": "M49_BzJC91gv"
      },
      "source": [
        "with f as file:\n",
        "  # read first line and extract peptide \n",
        "  exp_spec = list(file.readline().strip().split(' ')) \n",
        "  exp_spec = list(map(int, exp_spec))\n"
      ],
      "execution_count": null,
      "outputs": []
    }
  ]
}