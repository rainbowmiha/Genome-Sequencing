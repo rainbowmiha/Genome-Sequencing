{
  "nbformat": 4,
  "nbformat_minor": 0,
  "metadata": {
    "colab": {
      "name": "CountingPeptidesWithMassM.ipynb",
      "provenance": [],
      "collapsed_sections": [],
      "authorship_tag": "ABX9TyMMxIjhxjZKbj3V1BSOmKU4",
      "include_colab_link": true
    },
    "kernelspec": {
      "name": "python3",
      "display_name": "Python 3"
    }
  },
  "cells": [
    {
      "cell_type": "markdown",
      "metadata": {
        "id": "view-in-github",
        "colab_type": "text"
      },
      "source": [
        "<a href=\"https://colab.research.google.com/github/rainbowmiha/genome-sequencing/blob/main/CountingPeptidesWithMassM.ipynb\" target=\"_parent\"><img src=\"https://colab.research.google.com/assets/colab-badge.svg\" alt=\"Open In Colab\"/></a>"
      ]
    },
    {
      "cell_type": "code",
      "metadata": {
        "id": "afTvaFnHmvLN"
      },
      "source": [
        "# A program which counts the peptides with a mass M\n",
        "\n",
        "Alphabet = {57: 'G', 71: 'A', 87: 'S', 97: 'P',\n",
        "           99: 'V', 101: 'T', 103: 'C', 113:'I/L',\n",
        "           114: 'N', 115: 'D', 128: 'K/Q', 129: 'E',\n",
        "           131: 'M', 137: 'H', 147: 'F', 156: 'R', 163: 'Y', 186: 'W'}\n",
        "\n",
        "def CountingMass(Mass, masslist):\n",
        "    if Mass == 0: return 1, masslist\n",
        "    if Mass < 57: return 0, masslist\n",
        "    if Mass in masslist: return masslist[Mass], masslist\n",
        "    n = 0\n",
        "    for i in Alphabet:\n",
        "        k, masslist = CountingMass(Mass - i, masslist)\n",
        "        n += k\n",
        "    masslist[Mass] = n\n",
        "    \n",
        "    return n, masslist\n"
      ],
      "execution_count": null,
      "outputs": []
    },
    {
      "cell_type": "code",
      "metadata": {
        "id": "8sVQ-3kpyADr"
      },
      "source": [
        "print(CountingMass(1400, {})[0])"
      ],
      "execution_count": null,
      "outputs": []
    }
  ]
}