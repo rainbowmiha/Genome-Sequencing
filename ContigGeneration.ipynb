{
  "nbformat": 4,
  "nbformat_minor": 0,
  "metadata": {
    "colab": {
      "name": "ContigGeneration.ipynb",
      "provenance": [],
      "collapsed_sections": [],
      "authorship_tag": "ABX9TyOfOeri2YOjTGR/UwziIuJj"
    },
    "kernelspec": {
      "name": "python3",
      "display_name": "Python 3"
    }
  },
  "cells": [
    {
      "cell_type": "code",
      "metadata": {
        "id": "lLEjK2e-mQTu"
      },
      "source": [
        "# Contig Generation Problem: Generate the contigs from a collection of reads\n",
        "#  (with imperfect coverage)\n",
        "\n",
        "# Task 1: Take in a set of kmers and generate Debruijn adj list\n",
        "# Task 2: Use adjacency list to generate max non-branching paths\n",
        "# Task 3: Use max non-branching paths to generate contigs\n",
        "\n"
      ],
      "execution_count": 1,
      "outputs": []
    },
    {
      "cell_type": "code",
      "metadata": {
        "id": "zQfe5-rMpJut"
      },
      "source": [
        "# Task 1: Take in a set of kmers and generate Debruijn adj list\n",
        "\n",
        "def debruin_patterns(patterns):\n",
        "\n",
        "  # sort patterns lexicographically\n",
        "  patterns.sort()  \n",
        "\n",
        "  # an empty list to store nodes\n",
        "  nodes_list = []\n",
        "\n",
        "  # extract all nodes in dna\n",
        "  for i in patterns:\n",
        "    nodes_list.append(i[0:-1])\n",
        "  nodes_list.sort()  \n",
        "\n",
        "  # a dictionary to keep nodes(key) and a list of their adjacent nodes(value)\n",
        "  nodes = {k:[] for k in nodes_list}\n",
        "  \n",
        "  # loops over patterns and finds adjacent nodes \n",
        "  for j in patterns:\n",
        "    start_node = j[0:-1]\n",
        "    adj_node = j[1:len(j)]\n",
        "    nodes[start_node].append(adj_node)\n",
        "    \n",
        "  return nodes  "
      ],
      "execution_count": 2,
      "outputs": []
    },
    {
      "cell_type": "code",
      "metadata": {
        "id": "7j2nrBw0qPAb"
      },
      "source": [
        "# Task 2: Use adjacency list to generate max non-branching paths\n",
        "\n",
        "# Takes in an adjacency list\n",
        "# spits out a list of max non-branching paths\n",
        "\n",
        "def MaximalNonBranchingPaths(graph):\n",
        "  # a list to store the non-branching paths\n",
        "  paths = []\n",
        "\n",
        "  # a list to store all outgoing nodes\n",
        "  all_out_nodes = []\n",
        "\n",
        "  # list to store all cycle nodes\n",
        "  cycle_nodes = []  \n",
        "\n",
        "  # find all outgoing nodes\n",
        "  for j in graph.keys():\n",
        "    for k in graph[j]:\n",
        "      all_out_nodes.append(k)\n",
        "\n",
        "  # find the nodes with zero outnodes and add them to the dictionary\n",
        "  # (otherwise it throws errors)    \n",
        "  unique_elts = set(all_out_nodes)\n",
        "  for z in unique_elts:\n",
        "    if z not in graph.keys():\n",
        "          graph[z] = []  \n",
        "\n",
        "  # find nodes v, for which the req in(v) = out(v)=1 DOES NOT hold.           \n",
        "  for v in graph.keys():\n",
        "    if not (len(graph[v]) == all_out_nodes.count(v) and  len(graph[v]) == 1):\n",
        "      if len(graph[v]) > 0: \n",
        "        for w in graph[v]:\n",
        "          non_branch_path = [v,w]\n",
        "          while (len(graph[w]) == all_out_nodes.count(w) and len(graph[w]) == 1):\n",
        "            u = graph[w][0] \n",
        "            non_branch_path.append(u)\n",
        "            w = u\n",
        "          paths.append(non_branch_path)  \n",
        "\n",
        "              \n",
        "    else:\n",
        "      if v not in cycle_nodes:\n",
        "        cycle_nodes.append(v)\n",
        "        start = v\n",
        "        w = v\n",
        "        non_branch_path = [v]\n",
        "        flag = False\n",
        "        while (len(graph[w]) == all_out_nodes.count(w) and len(graph[w]) == 1):\n",
        "          u = graph[w][0] \n",
        "          non_branch_path.append(u)\n",
        "          cycle_nodes.append(u)\n",
        "          if u == start:\n",
        "            flag = True\n",
        "            break\n",
        "          w = u\n",
        "        if flag == True:\n",
        "          paths.append(non_branch_path)\n",
        "\n",
        "  return paths"
      ],
      "execution_count": 3,
      "outputs": []
    },
    {
      "cell_type": "code",
      "metadata": {
        "id": "UjteexybPldv"
      },
      "source": [
        "def PathToGenome(path):\n",
        "  genome=''\n",
        "  for i in range(len(path)-1):\n",
        "    genome = genome + path[i][0]\n",
        "  genome = genome + str(path[len(path)-1])\n",
        "  return genome  "
      ],
      "execution_count": 10,
      "outputs": []
    },
    {
      "cell_type": "code",
      "metadata": {
        "id": "WSLaSAnaNrqg"
      },
      "source": [
        "kmers = [\"ATG\",\"ATG\",\"TGT\",\"TGG\",\"CAT\",\"GGA\",\"GAT\",\"AGA\"]"
      ],
      "execution_count": 11,
      "outputs": []
    },
    {
      "cell_type": "code",
      "metadata": {
        "id": "qyxMeYF2OAD9"
      },
      "source": [
        "db = debruin_patterns(kmers)"
      ],
      "execution_count": 12,
      "outputs": []
    },
    {
      "cell_type": "code",
      "metadata": {
        "id": "AahKJu7U3QeM",
        "outputId": "6eb6ba57-41bb-4c40-a1c4-14e0b13b4ea3",
        "colab": {
          "base_uri": "https://localhost:8080/",
          "height": 119
        }
      },
      "source": [
        "db"
      ],
      "execution_count": 13,
      "outputs": [
        {
          "output_type": "execute_result",
          "data": {
            "text/plain": [
              "{'AG': ['GA'],\n",
              " 'AT': ['TG', 'TG'],\n",
              " 'CA': ['AT'],\n",
              " 'GA': ['AT'],\n",
              " 'GG': ['GA'],\n",
              " 'TG': ['GG', 'GT']}"
            ]
          },
          "metadata": {
            "tags": []
          },
          "execution_count": 13
        }
      ]
    },
    {
      "cell_type": "code",
      "metadata": {
        "id": "rEyOP-r4OLdn"
      },
      "source": [
        "mb_list = MaximalNonBranchingPaths(db)"
      ],
      "execution_count": 14,
      "outputs": []
    },
    {
      "cell_type": "code",
      "metadata": {
        "id": "Dvb3x2OJP3yX",
        "outputId": "a0fed7fe-8c32-4f86-a836-2cd0fb8ab55f",
        "colab": {
          "base_uri": "https://localhost:8080/",
          "height": 34
        }
      },
      "source": [
        "genomes = []\n",
        "for i in mb_list:\n",
        "  genomes.append(PathToGenome(i))\n",
        "print(genomes)  \n"
      ],
      "execution_count": 15,
      "outputs": [
        {
          "output_type": "stream",
          "text": [
            "['AGA', 'ATG', 'ATG', 'CAT', 'GAT', 'TGGA', 'TGT']\n"
          ],
          "name": "stdout"
        }
      ]
    },
    {
      "cell_type": "code",
      "metadata": {
        "id": "h8vb3eGJ4gOv"
      },
      "source": [
        "# check Rosalind for a test set\n",
        "f = open('/dir/file.txt', 'r+')"
      ],
      "execution_count": null,
      "outputs": []
    },
    {
      "cell_type": "code",
      "metadata": {
        "id": "0KBEH5154jxk"
      },
      "source": [
        "content = f.readlines()\n",
        "# you may also want to remove whitespace characters like `\\n` at the end of each line\n",
        "content = [x.strip() for x in content]"
      ],
      "execution_count": null,
      "outputs": []
    },
    {
      "cell_type": "code",
      "metadata": {
        "id": "tx4R3wsf5EVk"
      },
      "source": [
        "db = debruin_patterns(content)\n",
        "mb_list = MaximalNonBranchingPaths(db)\n",
        "genomes = []\n",
        "for i in mb_list:\n",
        "  genomes.append(PathToGenome(i))\n",
        "\n"
      ],
      "execution_count": null,
      "outputs": []
    }
  ]
}