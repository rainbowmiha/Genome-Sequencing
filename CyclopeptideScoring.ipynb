{
  "nbformat": 4,
  "nbformat_minor": 0,
  "metadata": {
    "colab": {
      "name": "CyclopeptideScoring.ipynb",
      "provenance": [],
      "collapsed_sections": [],
      "authorship_tag": "ABX9TyOc2PcsipCBPQ0T8Cdcxtz/"
    },
    "kernelspec": {
      "name": "python3",
      "display_name": "Python 3"
    }
  },
  "cells": [
    {
      "cell_type": "code",
      "metadata": {
        "id": "vl2th4yLtlFY"
      },
      "source": [
        "# a function which takes in a peptide and \n",
        "# spits out the theoretical spectrum of that peptide\n",
        "# where \"theoretical spectrum\" is is the collection of all of the masses of its subpeptides, \n",
        "# in addition to the mass 0 and the mass of the entire peptide, with masses ordered from smallest to largest.\n",
        "\n",
        "def cyclic_spectrum(peptide):\n",
        "  amino_acid_table = {'G': 57, 'A': 71, 'S': 87, 'P': 97, 'V': 99, 'T': 101, 'C': 103, 'I': 113, 'L': 113, 'N': 114, 'D': 115, 'K': 128, 'Q': 128, 'E': 129, 'M': 131, 'H': 137, 'F': 147, 'R': 156, 'Y': 163, 'W': 186}\n",
        "  prefix_mass = [0] * (len(peptide)+1)\n",
        "\n",
        "  # prefix_mass is the list of mass of 1st, 1st+2nd, 1st+2nd+3rd,...1st+...+last\n",
        "  for i in range(1,len(peptide)+1):\n",
        "    prefix_mass[i] = prefix_mass[i-1] + amino_acid_table[peptide[i-1]]\n",
        "  \n",
        "  # take the value of the total mass of the peptide and store it in a var  \n",
        "  peptide_mass = max(prefix_mass)\n",
        "  cyclic_spectrum = [0]\n",
        "  for i in range(0, len(peptide)):\n",
        "    for j in range(i + 1,len(peptide)+1):\n",
        "      cyclic_spectrum.append(prefix_mass[j] - prefix_mass[i])\n",
        "\n",
        "    # this here part accounts for the cyclic nature of the peptide\n",
        "      if i > 0 and j < len(peptide):\n",
        "        cyclic_spectrum.append(peptide_mass - (prefix_mass[j] - prefix_mass[i]))\n",
        "\n",
        "  cyclic_spectrum.sort()        \n",
        "  \n",
        "  return cyclic_spectrum\n",
        " \n"
      ],
      "execution_count": null,
      "outputs": []
    },
    {
      "cell_type": "code",
      "metadata": {
        "id": "3KjuIbLJtD2C"
      },
      "source": [
        "# Input: Cyclic peptide, experimental spectrum\n",
        "# Output: How many matches of masses there are between cyclic peptide and exp_spectrum\n",
        "\n",
        "def cyclopeptide_scoring(cyc_peptide, exp_spectrum):\n",
        "  cyc_spec = cyclic_spectrum(cyc_peptide)\n",
        "  # store unique elts in exp_spectrum\n",
        "  lst_uniq = list(set(exp_spectrum))\n",
        "  score = 0\n",
        "  for i in lst_uniq:\n",
        "    score = score + min(exp_spectrum.count(i), cyc_spec.count(i))\n",
        "  \n",
        "  return(score)"
      ],
      "execution_count": null,
      "outputs": []
    },
    {
      "cell_type": "code",
      "metadata": {
        "id": "6yFrKQ3LvD42",
        "outputId": "be528c9f-fc6b-46aa-ec8b-2fc001ccaca5",
        "colab": {
          "base_uri": "https://localhost:8080/",
          "height": 34
        }
      },
      "source": [
        "cyclopeptide_scoring('MAMA', [0, 71, 98, 99, 131, 202, 202, 202, 202, 202, 299, 333, 333, 333, 503])"
      ],
      "execution_count": null,
      "outputs": [
        {
          "output_type": "execute_result",
          "data": {
            "text/plain": [
              "9"
            ]
          },
          "metadata": {
            "tags": []
          },
          "execution_count": 11
        }
      ]
    },
    {
      "cell_type": "code",
      "metadata": {
        "id": "fiTTH0-XvuZu"
      },
      "source": [
        "# for a test set check out Rosalind\n",
        "f = open('/dir/file.txt', 'r+')"
      ],
      "execution_count": null,
      "outputs": []
    },
    {
      "cell_type": "code",
      "metadata": {
        "id": "7V2t89Zwvx5u"
      },
      "source": [
        "peptide = ''\n",
        "with f as file:\n",
        "  # read first line and extract peptide \n",
        "    peptide = file.readline().strip('\\n') \n",
        "    exp_spec = list(file.readline().strip().split(' ')) \n",
        "exp_spec = list(map(int, exp_spec))\n"
      ],
      "execution_count": null,
      "outputs": []
    },
    {
      "cell_type": "code",
      "metadata": {
        "id": "dinXYw69lDrt"
      },
      "source": [
        "cyclopeptide_scoring(peptide, exp_spec)"
      ],
      "execution_count": null,
      "outputs": []
    }
  ]
}