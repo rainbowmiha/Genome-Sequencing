{
  "nbformat": 4,
  "nbformat_minor": 0,
  "metadata": {
    "colab": {
      "name": "LinearPeptideScoring.ipynb",
      "provenance": [],
      "collapsed_sections": [],
      "authorship_tag": "ABX9TyPgL4h/er+yNpQip/Ktf52s"
    },
    "kernelspec": {
      "name": "python3",
      "display_name": "Python 3"
    }
  },
  "cells": [
    {
      "cell_type": "code",
      "metadata": {
        "id": "C1ZSKMrJReEZ"
      },
      "source": [
        "# a function which takes in a peptide\n",
        "# and outputs its linear spectrum\n",
        "# where \"linear spectrum\" is a list of the integer masses of the subpeptides\n",
        "\n",
        "def linear_spectrum(peptide):\n",
        "    \n",
        "  amino_acid_table = {'G': 57, 'A': 71, 'S': 87, 'P': 97, 'V': 99, 'T': 101, 'C': 103, 'I': 113, 'L': 113, 'N': 114, 'D': 115, 'K': 128, 'Q': 128, 'E': 129, 'M': 131, 'H': 137, 'F': 147, 'R': 156, 'Y': 163, 'W': 186}\n",
        "  prefix_mass = [0] * (len(peptide)+1)\n",
        "\n",
        "  # prefix_mass is the list of mass of 1st, 1st+2nd, 1st+2nd+3rd,...1st+...+last\n",
        "  for i in range(1,len(peptide)+1):\n",
        "    prefix_mass[i] = prefix_mass[i-1] + amino_acid_table[peptide[i-1]]\n",
        "\n",
        "  linear_spectrum = [0]\n",
        "  for i in range(0, len(peptide)):\n",
        "    for j in range(i + 1,len(peptide)+1):\n",
        "      linear_spectrum.append(prefix_mass[j] - prefix_mass[i])\n",
        "\n",
        "  \n",
        "  linear_spectrum.sort()        \n",
        "  return linear_spectrum\n",
        " "
      ],
      "execution_count": null,
      "outputs": []
    },
    {
      "cell_type": "code",
      "metadata": {
        "id": "8IVPBp-ArKVO"
      },
      "source": [
        "# Input: linear peptide, an experimental spectrum\n",
        "# Output: The similarity score of the peptide and the exp spectrum\n",
        "\n",
        "def linpeptide_scoring(lin_peptide, exp_spectrum):\n",
        "  lin_spec = linear_spectrum(lin_peptide)\n",
        "  # store unique elts in exp_spectrum\n",
        "  lst_uniq = list(set(exp_spectrum))\n",
        "  score = 0\n",
        "  for i in lst_uniq:\n",
        "    score = score + min(exp_spectrum.count(i), lin_spec.count(i))\n",
        "  \n",
        "  return(score)"
      ],
      "execution_count": null,
      "outputs": []
    },
    {
      "cell_type": "code",
      "metadata": {
        "id": "SDDzvvhJSG7F"
      },
      "source": [
        "peptide = 'PEEP'\n",
        "exp_spectrum = [0, 97, 129, 129, 129, 194, 226, 323, 323, 355, 452]"
      ],
      "execution_count": null,
      "outputs": []
    },
    {
      "cell_type": "code",
      "metadata": {
        "id": "w0vIS0KDSVfS",
        "outputId": "77c82d0d-b230-4f01-83a3-efdbe091e79a",
        "colab": {
          "base_uri": "https://localhost:8080/",
          "height": 34
        }
      },
      "source": [
        "linpeptide_scoring(peptide, exp_spectrum)"
      ],
      "execution_count": null,
      "outputs": [
        {
          "output_type": "execute_result",
          "data": {
            "text/plain": [
              "9"
            ]
          },
          "metadata": {
            "tags": []
          },
          "execution_count": 8
        }
      ]
    }
  ]
}