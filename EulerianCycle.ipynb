{
  "nbformat": 4,
  "nbformat_minor": 0,
  "metadata": {
    "colab": {
      "name": "EulerianCycle.ipynb",
      "provenance": [],
      "collapsed_sections": [],
      "authorship_tag": "ABX9TyOt+h1+gM92+EFVdXKh1qoY"
    },
    "kernelspec": {
      "name": "python3",
      "display_name": "Python 3"
    }
  },
  "cells": [
    {
      "cell_type": "code",
      "metadata": {
        "id": "d9AofvnkcnpT"
      },
      "source": [
        "# to use for drawing a random element\n",
        "import random"
      ],
      "execution_count": 1,
      "outputs": []
    },
    {
      "cell_type": "code",
      "metadata": {
        "id": "6t8X8sTUzRcK"
      },
      "source": [
        "# Python3 program to print Eulerian circuit in given \n",
        "# directed graph using Hierholzer algorithm \n",
        "def EulerianCycle(adj): \n",
        "   \n",
        "    # adj represents the adjacency list of \n",
        "    # the directed graph \n",
        "       \n",
        "    if len(adj) == 0: \n",
        "        return # empty graph \n",
        "\n",
        "    else:\n",
        "      # list to store all out nodes\n",
        "      all_out_nodes = []\n",
        "\n",
        "      for j in adj.keys():\n",
        "        for k in adj[j]:\n",
        "          all_out_nodes.append(k)\n",
        "\n",
        "      # find the nodes with zero outnodes and add them to the dictionary\n",
        "      # (otherwise it throws errors)    \n",
        "      unique_elts = set(all_out_nodes)\n",
        "      for z in unique_elts:\n",
        "        if z not in adj.keys():\n",
        "          adj[z] = []        \n",
        "\n",
        "    \n",
        "    # Maintain a stack to keep vertices \n",
        "    # We can start from any vertex, hence we choose one at random\n",
        "       \n",
        "    curr_path = [str(random.choice(list(adj.keys())))] \n",
        "   \n",
        "    # list to store final circuit \n",
        "    circuit = [] \n",
        "   \n",
        "    while curr_path: \n",
        "   \n",
        "        curr_v = curr_path[-1] \n",
        "        \n",
        "        # If there's remaining edge in adjacency list   \n",
        "        # of the current vertex  \n",
        "      \n",
        "        if adj[curr_v]: \n",
        "  \n",
        "            # Find and remove the next vertex that is   \n",
        "            # adjacent to the current vertex \n",
        "            next_v = str(adj[curr_v].pop())\n",
        "   \n",
        "            # Push the new vertex to the stack \n",
        "            curr_path.append(next_v) \n",
        "   \n",
        "        # back-track to find remaining circuit \n",
        "        else: \n",
        "            # Remove the current vertex and  \n",
        "            # put it in the curcuit \n",
        "            circuit.append(curr_path.pop()) \n",
        "   \n",
        "    # we've got the circuit, now print it in reverse \n",
        "    for i in range(len(circuit) - 1, -1, -1): \n",
        "        print(circuit[i], end = \"\") \n",
        "        if i: \n",
        "            print(\"->\", end = \"\")\n",
        "              "
      ],
      "execution_count": 2,
      "outputs": []
    },
    {
      "cell_type": "code",
      "metadata": {
        "id": "AxX3odXghvsx"
      },
      "source": [
        "my_dict = {}\n",
        "my_dict['0'] = ['3']\n",
        "my_dict['1'] = ['0']\n",
        "my_dict['2'] = ['1','6']\n",
        "my_dict['3'] = ['2']\n",
        "my_dict['4'] = ['2']\n",
        "my_dict['5'] = ['4']\n",
        "my_dict['6'] = ['5','8']\n",
        "my_dict['7'] = ['9']\n",
        "my_dict['8'] = ['7']\n",
        "my_dict['9'] = ['6']\n"
      ],
      "execution_count": 12,
      "outputs": []
    },
    {
      "cell_type": "code",
      "metadata": {
        "id": "3BNZIW5TnIz-",
        "outputId": "4a2c477b-3f2a-4d3f-f8b6-a238cc78fb5f",
        "colab": {
          "base_uri": "https://localhost:8080/",
          "height": 34
        }
      },
      "source": [
        "# make sure you rerun the above cell before running this command again!\n",
        "EulerianCycle(my_dict)"
      ],
      "execution_count": 13,
      "outputs": [
        {
          "output_type": "stream",
          "text": [
            "4->2->1->0->3->2->6->8->7->9->6->5->4"
          ],
          "name": "stdout"
        }
      ]
    },
    {
      "cell_type": "code",
      "metadata": {
        "id": "VXPXSiEQYFUz"
      },
      "source": [
        "# check Rosalind for a test set\n",
        "f = open('/dir/file.txt', 'r+')"
      ],
      "execution_count": null,
      "outputs": []
    },
    {
      "cell_type": "code",
      "metadata": {
        "id": "cd09Dbex3ZCF"
      },
      "source": [
        "with f as file:\n",
        "\n",
        "\n",
        "    graph = dict((line.strip().split(' -> ') for line in file))\n",
        "    for key in graph:\n",
        "        graph[key] = graph[key].split(',')"
      ],
      "execution_count": null,
      "outputs": []
    }
  ]
}