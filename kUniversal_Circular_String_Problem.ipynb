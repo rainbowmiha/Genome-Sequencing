{
  "nbformat": 4,
  "nbformat_minor": 0,
  "metadata": {
    "colab": {
      "name": "kUniversal_Circular_String_Problem.ipynb",
      "provenance": [],
      "collapsed_sections": [],
      "authorship_tag": "ABX9TyO/vbJzQ979Ux3b1lkxvgWS"
    },
    "kernelspec": {
      "name": "python3",
      "display_name": "Python 3"
    }
  },
  "cells": [
    {
      "cell_type": "code",
      "metadata": {
        "id": "JFz7f2VRES-0"
      },
      "source": [
        "import random \n",
        "# a program which takes in a set of patterns and \n",
        "# returns their adjacent list\n",
        "\n",
        "def debruin_patterns(patterns):\n",
        "\n",
        "  # sort patterns lexicographically\n",
        "  patterns.sort()  \n",
        "  # an empty list to store nodes\n",
        "  nodes_list = []\n",
        "\n",
        "  # extract all nodes in dna\n",
        "  for i in patterns:\n",
        "    nodes_list.append(i[0:-1])\n",
        "  nodes_list.sort()  \n",
        "\n",
        "  # a dictionary to keep nodes(key) and a list of their adjacent nodes(value)\n",
        "  nodes = {k:[] for k in nodes_list}\n",
        "  \n",
        "  # loops over patterns and finds adjacent nodes \n",
        "  for j in patterns:\n",
        "    start_node = j[0:-1]\n",
        "    adj_node = j[1:len(j)]\n",
        "    nodes[start_node].append(adj_node)\n",
        "\n",
        "  return nodes   "
      ],
      "execution_count": null,
      "outputs": []
    },
    {
      "cell_type": "code",
      "metadata": {
        "id": "6t8X8sTUzRcK"
      },
      "source": [
        "# Python3 program to print Eulerian circuit in given \n",
        "# directed graph using Hierholzer algorithm \n",
        "def EulerianCycle(adj): \n",
        "   \n",
        "    # adj represents the adjacency list of \n",
        "    # the directed graph \n",
        "       \n",
        "    if len(adj) == 0: \n",
        "        return # empty graph \n",
        "\n",
        "    else:\n",
        "      # list to store all out nodes\n",
        "      all_out_nodes = []\n",
        "\n",
        "      for j in adj.keys():\n",
        "        for k in adj[j]:\n",
        "          all_out_nodes.append(k)\n",
        "\n",
        "      # find the nodes with zero outnodes and add them to the dictionary\n",
        "      # (otherwise it throws errors)    \n",
        "      unique_elts = set(all_out_nodes)\n",
        "      for z in unique_elts:\n",
        "        if z not in adj.keys():\n",
        "          adj[z] = []        \n",
        "\n",
        "    \n",
        "    # Maintain a stack to keep vertices \n",
        "    # We can start from any vertex, hence we choose one at random\n",
        "       \n",
        "    curr_path = [str(random.choice(list(adj.keys())))] \n",
        "   \n",
        "    # list to store final circuit \n",
        "    circuit = [] \n",
        "   \n",
        "    while curr_path: \n",
        "   \n",
        "        curr_v = curr_path[-1] \n",
        "        \n",
        "        # If there's remaining edge in adjacency list   \n",
        "        # of the current vertex  \n",
        "      \n",
        "        if adj[curr_v]: \n",
        "  \n",
        "            # Find and remove the next vertex that is   \n",
        "            # adjacent to the current vertex \n",
        "            next_v = str(adj[curr_v].pop())\n",
        "   \n",
        "            # Push the new vertex to the stack \n",
        "            curr_path.append(next_v) \n",
        "   \n",
        "        # back-track to find remaining circuit \n",
        "        else: \n",
        "            # Remove the current vertex and  \n",
        "            # put it in the curcuit \n",
        "            circuit.append(curr_path.pop()) \n",
        "   \n",
        "    # we've got the circuit, now print it in reverse \n",
        "    reverse_circuit = []\n",
        "    for i in range(len(circuit) - 1, -1, -1): \n",
        "       reverse_circuit.append(circuit[i])\n",
        "    # remove last element of cycle, as it is just the first repeated   \n",
        "    return(reverse_circuit)      \n",
        "\n",
        "\n",
        "\n",
        "\n",
        "\n",
        "      \n",
        "      \n",
        "    \n",
        "\n",
        "          "
      ],
      "execution_count": null,
      "outputs": []
    },
    {
      "cell_type": "code",
      "metadata": {
        "id": "nw2-9XhOlgjF"
      },
      "source": [
        "# a program which takes in a path\n",
        "# and spits out a genome sequence\n",
        "def PathToGenome(path):\n",
        "  genome=''\n",
        "  for i in range(len(path)-1):\n",
        "    genome = genome + path[i][0]\n",
        "  genome = genome + str(path[len(path)-1])\n",
        "  return genome  "
      ],
      "execution_count": null,
      "outputs": []
    },
    {
      "cell_type": "code",
      "metadata": {
        "id": "MsHbkANBBrz9"
      },
      "source": [
        "# takes in an integer k\n",
        "# outputs the k-universal circular string\n",
        "\n",
        "import itertools\n",
        "\n",
        "def kuniversal(k):\n",
        "  patterns = [\"\".join(i) for i in itertools.product('01', repeat=k)]\n",
        "  db = debruin_patterns(patterns)\n",
        "  eu_path = EulerianCycle(db)\n",
        "  text = PathToGenome(eu_path[0:len(eu_path)-k+1])\n",
        "  \n",
        "  return (text)\n"
      ],
      "execution_count": null,
      "outputs": []
    },
    {
      "cell_type": "code",
      "metadata": {
        "id": "RbYZyAwHmjh5"
      },
      "source": [
        "def compositionk(dnaseq,k):\n",
        "  kmers = []\n",
        "# removing the last k-1 elements\n",
        "# -1 for the last element of the cycle, as it repeats with the first\n",
        "# -(k-1) because these are expressed with the overlapping first letters  \n",
        "  for i in range(len(dnaseq)-k+1):\n",
        "    kmers.append(dnaseq[i:i+k])\n",
        "  kmers.sort()\n",
        "  lst = []\n",
        "  for x in kmers:\n",
        "    lst.append(x)\n",
        "  return(lst)  "
      ],
      "execution_count": null,
      "outputs": []
    },
    {
      "cell_type": "code",
      "metadata": {
        "id": "7H6uOj6Olr_K",
        "outputId": "ee7d6a6a-1cf0-40f5-dc22-f17521107e9d",
        "colab": {
          "base_uri": "https://localhost:8080/",
          "height": 68
        }
      },
      "source": [
        "kuniversal(3)"
      ],
      "execution_count": null,
      "outputs": [
        {
          "output_type": "stream",
          "text": [
            "['000', '001', '010', '011', '100', '101', '110', '111']\n",
            "['11', '11', '10', '01', '10', '00', '00', '01', '11']\n"
          ],
          "name": "stdout"
        },
        {
          "output_type": "execute_result",
          "data": {
            "text/plain": [
              "'11101000'"
            ]
          },
          "metadata": {
            "tags": []
          },
          "execution_count": 380
        }
      ]
    }
  ]
}