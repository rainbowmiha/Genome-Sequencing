{
  "nbformat": 4,
  "nbformat_minor": 0,
  "metadata": {
    "colab": {
      "name": "DeBruijn",
      "provenance": [],
      "collapsed_sections": [],
      "mount_file_id": "1yit-QgHzPacQKvNGkCMiKNJrLgRKoaus",
      "authorship_tag": "ABX9TyMAm97qLsjPyutJOiOs0xrx"
    },
    "kernelspec": {
      "name": "python3",
      "display_name": "Python 3"
    }
  },
  "cells": [
    {
      "cell_type": "code",
      "metadata": {
        "id": "gaIIH3FkYj1K"
      },
      "source": [
        "# a program that takes in a dna seq (dna - string) and a k-mer length (k - int)\n",
        "# and prints out their adjacent nodes in a generated for the dna seq DeBruijn graph\n",
        "def debruijn(dna,k):\n",
        "  # a list to store all kmers\n",
        "  patterns = []\n",
        "\n",
        "  #length of nodes \n",
        "  node_len = k-1\n",
        "\n",
        "  # an empty list to store nodes\n",
        "  nodes_list = []\n",
        "\n",
        "  # extract all nodes in dna\n",
        "  for i in range(len(dna)-node_len):\n",
        "    nodes_list.append(dna[i:i+node_len])\n",
        "  nodes_list.sort()  \n",
        "\n",
        "  # extract all kmers in dna\n",
        "  for i in range(len(dna)-k+1):\n",
        "    patterns.append(dna[i:i+k])\n",
        "\n",
        "  #sort patterns lexicographically\n",
        "  patterns.sort()  \n",
        "\n",
        "  # a dictionary to keep nodes(key) and a list of their adjacent nodes(value)\n",
        "  nodes = {k:[] for k in nodes_list}\n",
        "  \n",
        "  # loops over patterns and finds adjacent nodes \n",
        "  for i in patterns:\n",
        "    start_node = i[0:-1]\n",
        "    adj_node = i[1:len(i)]\n",
        "    nodes[start_node].append(adj_node)\n",
        "   \n",
        "  for key in nodes.keys():\n",
        "    print (str(key) + ' -> ' + \", \".join(nodes[key])) \n",
        "      \n"
      ],
      "execution_count": null,
      "outputs": []
    },
    {
      "cell_type": "code",
      "metadata": {
        "id": "WPyfgJsWtXN6"
      },
      "source": [
        "f = open('/dir/folder', 'r+')"
      ],
      "execution_count": null,
      "outputs": []
    },
    {
      "cell_type": "code",
      "metadata": {
        "id": "rCvmW4qbtwFK"
      },
      "source": [
        "content = f.readlines()\n",
        "# you may also want to remove whitespace characters like `\\n` at the end of each line\n",
        "content = [x.strip() for x in content]"
      ],
      "execution_count": null,
      "outputs": []
    },
    {
      "cell_type": "code",
      "metadata": {
        "id": "-JwaquDbt8xh"
      },
      "source": [
        "debruijn(content[1], int(content[0]))"
      ],
      "execution_count": null,
      "outputs": []
    }
  ]
}