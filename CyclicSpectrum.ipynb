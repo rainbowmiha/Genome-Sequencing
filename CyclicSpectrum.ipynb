{
  "nbformat": 4,
  "nbformat_minor": 0,
  "metadata": {
    "colab": {
      "name": "CyclicSpectrum.ipynb",
      "provenance": [],
      "collapsed_sections": [],
      "authorship_tag": "ABX9TyO65GFQJQ+qiYJ4RMh8Hy5o"
    },
    "kernelspec": {
      "name": "python3",
      "display_name": "Python 3"
    }
  },
  "cells": [
    {
      "cell_type": "code",
      "metadata": {
        "id": "XVzZD548YWoG"
      },
      "source": [
        "# a function which takes in a peptide and \n",
        "# outputs the theoretical spectrum of that peptide\n",
        "# where \"theoretical spectrum\" is is the collection of all of the masses of its subpeptides, \n",
        "# in addition to the mass 0 and the mass of the entire peptide, with masses ordered from smallest to largest.\n",
        "\n",
        "def CyclicSpectrum(peptide):\n",
        "  amino_acid_table = {'G': 57, 'A': 71, 'S': 87, 'P': 97, 'V': 99, 'T': 101, 'C': 103, 'I': 113, 'L': 113, 'N': 114, 'D': 115, 'K': 128, 'Q': 128, 'E': 129, 'M': 131, 'H': 137, 'F': 147, 'R': 156, 'Y': 163, 'W': 186}\n",
        "  prefix_mass = [0] * (len(peptide)+1)\n",
        "\n",
        "  # prefix_mass is the list of mass of 1st, 1st+2nd, 1st+2nd+3rd,...1st+...+last\n",
        "  for i in range(1,len(peptide)+1):\n",
        "    prefix_mass[i] = prefix_mass[i-1] + amino_acid_table[peptide[i-1]]\n",
        "  \n",
        "  # take the value of the total mass of the peptide and store it in a var  \n",
        "  peptide_mass = max(prefix_mass)\n",
        "  cyclic_spectrum = [0]\n",
        "  for i in range(0, len(peptide)):\n",
        "    for j in range(i + 1,len(peptide)+1):\n",
        "      cyclic_spectrum.append(prefix_mass[j] - prefix_mass[i])\n",
        "\n",
        "    # this here part accounts for the cyclic nature of the peptide\n",
        "      if i > 0 and j < len(peptide):\n",
        "        cyclic_spectrum.append(peptide_mass - (prefix_mass[j] - prefix_mass[i]))\n",
        "\n",
        "  cyclic_spectrum.sort()        \n",
        "  for i in cyclic_spectrum:\n",
        "    print(i)\n",
        " \n",
        "\n",
        "   "
      ],
      "execution_count": null,
      "outputs": []
    },
    {
      "cell_type": "code",
      "metadata": {
        "id": "RqlDw0LgiJHQ"
      },
      "source": [
        "CyclicSpectrum('IAMT')"
      ],
      "execution_count": null,
      "outputs": []
    }
  ]
}