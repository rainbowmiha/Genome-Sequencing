{
  "nbformat": 4,
  "nbformat_minor": 0,
  "metadata": {
    "colab": {
      "name": " LeaderboardCyclopeptideSequencing.ipynb",
      "provenance": [],
      "collapsed_sections": [],
      "authorship_tag": "ABX9TyOYeHTkncM6xgfwXDlo9mST"
    },
    "kernelspec": {
      "name": "python3",
      "display_name": "Python 3"
    }
  },
  "cells": [
    {
      "cell_type": "code",
      "metadata": {
        "id": "FZMB6CGZiFok"
      },
      "source": [
        "# The difference between the original copy and this code is that:\n",
        "#(1)\n",
        "# This code works with all aminoacids, not just the ones whose individual mass\n",
        "# is contained in the experimental spectrum (because the exp spectrum may have missing/false masses)\n",
        "\n"
      ],
      "execution_count": null,
      "outputs": []
    },
    {
      "cell_type": "code",
      "metadata": {
        "id": "qCK06Koqb7Du"
      },
      "source": [
        "# a function which takes in a peptide and \n",
        "# spits out the theoretical spectrum of that peptide\n",
        "# where \"theoretical spectrum\" is is the collection of all of the masses of its subpeptides, \n",
        "# in addition to the mass 0 and the mass of the entire peptide, with masses ordered from smallest to largest.\n",
        "\n",
        "def cyclic_spectrum(peptide):\n",
        "  amino_acid_table = {'G': 57, 'A': 71, 'S': 87, 'P': 97, 'V': 99, 'T': 101, 'C': 103, 'I': 113, 'L': 113, 'N': 114, 'D': 115, 'K': 128, 'Q': 128, 'E': 129, 'M': 131, 'H': 137, 'F': 147, 'R': 156, 'Y': 163, 'W': 186}\n",
        "  prefix_mass = [0] * (len(peptide)+1)\n",
        "\n",
        "  # prefix_mass is the list of mass of 1st, 1st+2nd, 1st+2nd+3rd,...1st+...+last\n",
        "  for i in range(1,len(peptide)+1):\n",
        "    prefix_mass[i] = prefix_mass[i-1] + amino_acid_table[peptide[i-1]]\n",
        "  \n",
        "  # take the value of the total mass of the peptide and store it in a var  \n",
        "  peptide_mass = max(prefix_mass)\n",
        "  cyclic_spectrum = [0]\n",
        "  for i in range(0, len(peptide)):\n",
        "    for j in range(i + 1,len(peptide)+1):\n",
        "      cyclic_spectrum.append(prefix_mass[j] - prefix_mass[i])\n",
        "\n",
        "    # this here part accounts for the cyclic nature of the peptide\n",
        "      if i > 0 and j < len(peptide):\n",
        "        cyclic_spectrum.append(peptide_mass - (prefix_mass[j] - prefix_mass[i]))\n",
        "\n",
        "  cyclic_spectrum.sort()        \n",
        "  \n",
        "  return cyclic_spectrum"
      ],
      "execution_count": null,
      "outputs": []
    },
    {
      "cell_type": "code",
      "metadata": {
        "id": "83i0cs8QTEMB"
      },
      "source": [
        "# a function which takes in a peptide\n",
        "# and spits out its linear spectrum\n",
        "# where \"linear spectrum\" is a list of the integer masses of the subpeptides\n",
        "\n",
        "def linear_spectrum(peptide):\n",
        "    \n",
        "  amino_acid_table = {'G': 57, 'A': 71, 'S': 87, 'P': 97, 'V': 99, 'T': 101, 'C': 103, 'I': 113, 'L': 113, 'N': 114, 'D': 115, 'K': 128, 'Q': 128, 'E': 129, 'M': 131, 'H': 137, 'F': 147, 'R': 156, 'Y': 163, 'W': 186}\n",
        "  prefix_mass = [0] * (len(peptide)+1)\n",
        "\n",
        "  # prefix_mass is the list of mass of 1st, 1st+2nd, 1st+2nd+3rd,...1st+...+last\n",
        "  for i in range(1,len(peptide)+1):\n",
        "    prefix_mass[i] = prefix_mass[i-1] + amino_acid_table[peptide[i-1]]\n",
        "\n",
        "  linear_spectrum = [0]\n",
        "  for i in range(0, len(peptide)):\n",
        "    for j in range(i + 1,len(peptide)+1):\n",
        "      linear_spectrum.append(prefix_mass[j] - prefix_mass[i])\n",
        "\n",
        "  \n",
        "  linear_spectrum.sort()        \n",
        "  return linear_spectrum\n",
        " "
      ],
      "execution_count": null,
      "outputs": []
    },
    {
      "cell_type": "code",
      "metadata": {
        "id": "E64nAwAgTIYr"
      },
      "source": [
        "# Input: linear peptide, an experimental spectrum\n",
        "# Output: The similarity score of the peptide and the exp spectrum\n",
        "\n",
        "def linpeptide_scoring(lin_peptide, exp_spectrum):\n",
        "  lin_spec = linear_spectrum(lin_peptide)\n",
        "  # store unique elts in exp_spectrum\n",
        "  lst_uniq = list(set(exp_spectrum))\n",
        "  score = 0\n",
        "  for i in lst_uniq:\n",
        "    score = score + min(exp_spectrum.count(i), lin_spec.count(i))\n",
        "  \n",
        "  return(score)"
      ],
      "execution_count": null,
      "outputs": []
    },
    {
      "cell_type": "code",
      "metadata": {
        "id": "I1G6jiZfcAAK"
      },
      "source": [
        "# Input: Cyclic peptide, experimental spectrum\n",
        "# Output: How many matches of masses there are between cyclic peptide and exp_spectrum\n",
        "\n",
        "def cyclopeptide_scoring(cyc_peptide, exp_spectrum):\n",
        "  cyc_spec = cyclic_spectrum(cyc_peptide)\n",
        "  # store unique elts in exp_spectrum\n",
        "  lst_uniq = list(set(exp_spectrum))\n",
        "  score = 0\n",
        "  for i in lst_uniq:\n",
        "    score = score + min(exp_spectrum.count(i), cyc_spec.count(i))\n",
        "  \n",
        "  return(score)"
      ],
      "execution_count": null,
      "outputs": []
    },
    {
      "cell_type": "code",
      "metadata": {
        "id": "OXgT7uuqfaY0"
      },
      "source": [
        "def trim(leaderboard, spectrum, N):\n",
        "  linear_scores = [None]*len(leaderboard)\n",
        "  final_peptides = []\n",
        "  for j in range(len(leaderboard)):\n",
        "    peptide = leaderboard[j]\n",
        "    linear_scores[j] = linpeptide_scoring(peptide, spectrum)\n",
        "  \n",
        "  # link the two lists\n",
        "  from operator import itemgetter\n",
        "  h = [list(x) for x in zip(*sorted(zip(linear_scores, leaderboard), key=itemgetter(0)))]\n",
        "  linear_scores = h[0]\n",
        "  leaderboard = h[1]\n",
        "  linear_scores.reverse()\n",
        "  leaderboard.reverse()\n",
        "\n",
        "  # sort the linear scores list in a decreasing order\n",
        "  \n",
        "  for j in range(N + 1,len(leaderboard)):\n",
        "    if linear_scores[j] < linear_scores[N]:\n",
        "      leaderboard = leaderboard[0:j]           \n",
        "      return leaderboard\n",
        "\n",
        "  return leaderboard"
      ],
      "execution_count": null,
      "outputs": []
    },
    {
      "cell_type": "code",
      "metadata": {
        "id": "rGUahBTd1piD"
      },
      "source": [
        "# a function which takes in a peptide (as a string)\n",
        "# and it spits out its mass\n",
        "\n",
        "def mass(peptide):\n",
        "  # a dictionary with name of amino acid as a key and its int mass as a value\n",
        "  # the empty peptide is denoted by '0' - zero, and has mass 0\n",
        "  amino_acid_mass = {'G': 57, 'A': 71, 'S': 87, 'P': 97, 'V': 99, 'T': 101, 'C': 103, 'I': 113, 'L': 113, 'N': 114, 'D': 115, 'K': 128, 'Q': 128, 'E': 129, 'M': 131, 'H': 137, 'F': 147, 'R': 156, 'Y': 163, 'W': 186}\n",
        "  # split peptide into amino acids\n",
        "  peptide = list(peptide)\n",
        "  mass = 0\n",
        "  for i in peptide:\n",
        "    mass = mass + amino_acid_mass[i]\n",
        "    \n",
        "  return mass  "
      ],
      "execution_count": null,
      "outputs": []
    },
    {
      "cell_type": "code",
      "metadata": {
        "id": "4UnZgq6ZcKC6"
      },
      "source": [
        "# a function which checks if a list is a sublist of another list\n",
        "def is_sublist(sub_list, list_):\n",
        "    for item in sub_list:\n",
        "      if sub_list.count(item) > list_.count(item):\n",
        "        return False\n",
        "    return True"
      ],
      "execution_count": null,
      "outputs": []
    },
    {
      "cell_type": "code",
      "metadata": {
        "id": "TRCQTXk1cdlx"
      },
      "source": [
        "# Input: a k-long peptide and a list of amino acids\n",
        "# Output: the newly formed (k+1)-long peptides, formed by peptide + amino acd from list\n",
        "def expand(peptide_list, amino_list):\n",
        "  amino_list = []\n",
        "  new_peptides = []\n",
        "  for peptide in peptide_list:\n",
        "    for a in amino_list:\n",
        "      new_peptides.append(peptide+a)\n",
        "    \n",
        "  return new_peptides  "
      ],
      "execution_count": null,
      "outputs": []
    },
    {
      "cell_type": "code",
      "metadata": {
        "id": "5jVtLV8mlHNY"
      },
      "source": [
        "def leaderboard_cyclopep_seq(exp_spectrum, N):\n",
        "  aminos = ['G', 'A', 'S', 'P', 'V', 'T', 'C', 'L', 'N', 'D', 'K', 'E', 'M', 'H', 'F', 'R', 'Y', 'W']\n",
        "  parental_mass = max(exp_spectrum)\n",
        "  leader_peptide = ''\n",
        "  leaders = {}\n",
        "  abs_leaders = []\n",
        "  candidate_peptides = ['']\n",
        "  max_score = 0\n",
        "  while candidate_peptides != []:\n",
        "    leaderboard = [pept + amino for pept in candidate_peptides for amino in aminos]\n",
        "    candidate_peptides = []\n",
        "    for candidate in leaderboard:\n",
        "      mass_cand = mass(candidate)\n",
        "      if mass_cand == parental_mass:\n",
        "        leaders[candidate] = cyclopeptide_scoring(candidate, exp_spectrum)\n",
        "        if cyclopeptide_scoring(candidate, exp_spectrum) > cyclopeptide_scoring(leader_peptide, exp_spectrum):\n",
        "          leader_peptide = candidate\n",
        "          max_score = cyclopeptide_scoring(candidate, exp_spectrum)\n",
        "          \n",
        "      elif mass_cand < parental_mass:\n",
        "        candidate_peptides.append(candidate) \n",
        "\n",
        "    if len(candidate_peptides):\n",
        "      candidate_peptides = trim(candidate_peptides, exp_spectrum, N)\n",
        "  \n",
        "  for b in leaders.keys():\n",
        "    if leaders[b] == max_score:\n",
        "      abs_leaders.append(b)   \n",
        "\n",
        "  leader_peptide = abs_leaders[0]\n",
        "  print(abs_leaders)\n",
        "  print(max_score)\n",
        "\n",
        "  s = ''\n",
        "  for z in range(len(leader_peptide)):\n",
        "    if z == len(leader_peptide)-1:\n",
        "      s = s + str(mass(leader_peptide[z]))\n",
        "    else:\n",
        "      s = s + str(mass(leader_peptide[z])) + '-'\n",
        "\n",
        "  return s\n"
      ],
      "execution_count": null,
      "outputs": []
    },
    {
      "cell_type": "code",
      "metadata": {
        "id": "m61LU1X_CRa5",
        "outputId": "90b854af-4c27-4fe7-d428-3c0049347f7b",
        "colab": {
          "base_uri": "https://localhost:8080/",
          "height": 122
        }
      },
      "source": [
        "from google.colab import drive\n",
        "drive.mount('/content/drive')"
      ],
      "execution_count": null,
      "outputs": [
        {
          "output_type": "stream",
          "text": [
            "Go to this URL in a browser: https://accounts.google.com/o/oauth2/auth?client_id=947318989803-6bn6qk8qdgf4n4g3pfee6491hc0brc4i.apps.googleusercontent.com&redirect_uri=urn%3aietf%3awg%3aoauth%3a2.0%3aoob&response_type=code&scope=email%20https%3a%2f%2fwww.googleapis.com%2fauth%2fdocs.test%20https%3a%2f%2fwww.googleapis.com%2fauth%2fdrive%20https%3a%2f%2fwww.googleapis.com%2fauth%2fdrive.photos.readonly%20https%3a%2f%2fwww.googleapis.com%2fauth%2fpeopleapi.readonly\n",
            "\n",
            "Enter your authorization code:\n",
            "··········\n",
            "Mounted at /content/drive\n"
          ],
          "name": "stdout"
        }
      ]
    },
    {
      "cell_type": "code",
      "metadata": {
        "id": "8QEs1fI6Audv"
      },
      "source": [
        "spec = [0, 71, 113, 129, 147, 200, 218, 260, 313, 331, 347, 389, 460]"
      ],
      "execution_count": null,
      "outputs": []
    },
    {
      "cell_type": "code",
      "metadata": {
        "id": "GSynclFY-Yyi",
        "outputId": "b0701e9e-fb35-4c75-aa4e-d791b8a3f151",
        "colab": {
          "base_uri": "https://localhost:8080/",
          "height": 34
        }
      },
      "source": [
        "leaderboard_cyclopep_seq(spec,10)"
      ],
      "execution_count": null,
      "outputs": [
        {
          "output_type": "execute_result",
          "data": {
            "text/plain": [
              "'147-71-129-113'"
            ]
          },
          "metadata": {
            "tags": []
          },
          "execution_count": 71
        }
      ]
    },
    {
      "cell_type": "code",
      "metadata": {
        "id": "OseXciiRWWLf"
      },
      "source": [
        "# for a test set check Rosalind\n",
        "f = open('/dir/file.txt', 'r+')"
      ],
      "execution_count": null,
      "outputs": []
    },
    {
      "cell_type": "code",
      "metadata": {
        "id": "IeNCCPi0WqK6"
      },
      "source": [
        "\n",
        "with f as file:\n",
        "  # read first line and extract peptide \n",
        "    number = file.readline().strip('\\n') \n",
        "    number = int(number)\n",
        "    exp_spec = list(file.readline().strip().split(' ')) \n",
        "exp_spec = list(map(int, exp_spec))\n"
      ],
      "execution_count": null,
      "outputs": []
    },
    {
      "cell_type": "code",
      "metadata": {
        "id": "J-u6j5mnWW5o"
      },
      "source": [
        "leaderboard_cyclopep_seq(exp_spec, 1000)"
      ],
      "execution_count": null,
      "outputs": []
    }
  ]
}